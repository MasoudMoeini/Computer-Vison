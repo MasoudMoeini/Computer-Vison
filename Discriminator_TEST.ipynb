{
 "cells": [
  {
   "cell_type": "code",
   "execution_count": 13,
   "metadata": {},
   "outputs": [],
   "source": [
    "import tensorflow as tf\n",
    "import numpy as np\n",
    "import matplotlib.pyplot as plt\n",
    "images=np.load('data.npy')\n",
    "%matplotlib inline"
   ]
  },
  {
   "cell_type": "code",
   "execution_count": 14,
   "metadata": {},
   "outputs": [
    {
     "name": "stdout",
     "output_type": "stream",
     "text": [
      "200\n"
     ]
    }
   ],
   "source": [
    "images=images[:200]\n",
    "print(len(images))"
   ]
  },
  {
   "cell_type": "code",
   "execution_count": 28,
   "metadata": {},
   "outputs": [],
   "source": [
    "import tensorflow.contrib.layers as lays\n",
    "def discriminator(input,reuse=True):\n",
    "    with tf.variable_scope('dis',reuse=reuse):\n",
    "        net = lays.conv2d(input, 32, [5, 5], stride=2, padding='SAME',activation_fn=tf.nn.relu) #16 x16 x 32\n",
    "        net = lays.conv2d(net, 16, [5, 5], stride=2, padding='SAME',activation_fn=tf.nn.relu) # 8 x 8 x 16\n",
    "        net = lays.conv2d(net, 8, [5, 5], stride=4, padding='SAME',activation_fn=tf.nn.relu) #--> 2 x 2 x 8\n",
    "        dim = int(np.prod(net.get_shape()[1:]))\n",
    "        fc1 = tf.reshape(net, shape=[-1, dim], name='fc1')\n",
    "        w2 = tf.get_variable('w2', shape=[fc1.shape[-1], 1], dtype=tf.float32,initializer=tf.truncated_normal_initializer(stddev=0.02))\n",
    "        b2 = tf.get_variable('b2', shape=[1], dtype=tf.float32,initializer=tf.constant_initializer(0.0))\n",
    "        logits = tf.add(tf.matmul(fc1, w2), b2, name='logits')\n",
    "        Dis_out = tf.nn.sigmoid(logits)\n",
    "        return  Dis_out#logits"
   ]
  },
  {
   "cell_type": "code",
   "execution_count": 29,
   "metadata": {},
   "outputs": [],
   "source": [
    "real_images=tf.placeholder(tf.float32, (None,32, 32, 3))\n",
    "D_real=discriminator(real_images,reuse=True)\n",
    "batch_size=20\n",
    "h=len(images)\n",
    "num_batches=h//batch_size\n",
    "init=tf.global_variables_initializer()"
   ]
  },
  {
   "cell_type": "code",
   "execution_count": 30,
   "metadata": {},
   "outputs": [],
   "source": [
    "samples=[] #generator examples\n",
    "with tf.Session() as sess:\n",
    "    sess.run(init)\n",
    "    for i in range(num_batches):\n",
    "        batch_images=images[i*batch_size : (i+1)*batch_size].reshape(batch_size,32,32,3)\n",
    "        Dis=sess.run(discriminator(real_images,reuse=True),feed_dict={real_images:batch_images})\n",
    "        samples.append(Dis)"
   ]
  },
  {
   "cell_type": "code",
   "execution_count": 31,
   "metadata": {},
   "outputs": [
    {
     "data": {
      "text/plain": [
       "(10, 20, 1)"
      ]
     },
     "execution_count": 31,
     "metadata": {},
     "output_type": "execute_result"
    }
   ],
   "source": [
    "np.shape(samples)"
   ]
  },
  {
   "cell_type": "code",
   "execution_count": 32,
   "metadata": {},
   "outputs": [],
   "source": [
    "H=np.reshape(samples,(num_batches*batch_size))"
   ]
  },
  {
   "cell_type": "code",
   "execution_count": 33,
   "metadata": {},
   "outputs": [
    {
     "data": {
      "text/plain": [
       "array([0.4988311 , 0.49900255, 0.49928197, 0.4997744 , 0.499452  ,\n",
       "       0.49861383, 0.49962032, 0.4987932 , 0.49897295, 0.4971698 ,\n",
       "       0.4999128 , 0.49775982, 0.49808574, 0.49948093, 0.49932647,\n",
       "       0.49867305, 0.49797288, 0.50132024, 0.499463  , 0.50007457],\n",
       "      dtype=float32)"
      ]
     },
     "execution_count": 33,
     "metadata": {},
     "output_type": "execute_result"
    }
   ],
   "source": [
    "H[:20]"
   ]
  },
  {
   "cell_type": "code",
   "execution_count": null,
   "metadata": {},
   "outputs": [],
   "source": []
  }
 ],
 "metadata": {
  "kernelspec": {
   "display_name": "Python 3",
   "language": "python",
   "name": "python3"
  },
  "language_info": {
   "codemirror_mode": {
    "name": "ipython",
    "version": 3
   },
   "file_extension": ".py",
   "mimetype": "text/x-python",
   "name": "python",
   "nbconvert_exporter": "python",
   "pygments_lexer": "ipython3",
   "version": "3.6.8"
  }
 },
 "nbformat": 4,
 "nbformat_minor": 2
}
